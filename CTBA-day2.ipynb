{
 "cells": [
  {
   "cell_type": "code",
   "execution_count": null,
   "id": "0e0249fb",
   "metadata": {},
   "outputs": [
    {
     "name": "stdout",
     "output_type": "stream",
     "text": [
      "7\n",
      "10\n",
      "15\n"
     ]
    }
   ],
   "source": [
    "x=7\n",
    "y=\"data\"\n",
    "print(x)\n",
    "my_variable=10\n",
    "print(my_variable)\n",
    "\n",
    "my_variable+=5\n",
    "print(my_variable)\n"
   ]
  },
  {
   "cell_type": "markdown",
   "id": "3a6cabb1",
   "metadata": {},
   "source": [
    "work with string"
   ]
  },
  {
   "cell_type": "code",
   "execution_count": null,
   "id": "cafe95bf",
   "metadata": {},
   "outputs": [
    {
     "name": "stdout",
     "output_type": "stream",
     "text": [
      "waht are you studying\n",
      "analytics\n",
      "(question)(answer)\n"
     ]
    }
   ],
   "source": [
    "\"Im into bata science\"\n",
    "question=\"waht are you studying\"\n",
    "answer=\"analytics\"\n",
    "print(question)\n",
    "print(answer)\n",
    "print(f\"(question)(answer)\")"
   ]
  },
  {
   "cell_type": "code",
   "execution_count": null,
   "id": "14591858",
   "metadata": {},
   "outputs": [
    {
     "data": {
      "text/plain": [
       "'a'"
      ]
     },
     "execution_count": 3,
     "metadata": {},
     "output_type": "execute_result"
    }
   ],
   "source": [
    "\n",
    "len(answer)\n",
    "answer[0]##first character\n",
    "answer[2]\n",
    "answer[9]##there is no character  and give the error"
   ]
  },
  {
   "cell_type": "code",
   "execution_count": 4,
   "id": "8322f4db",
   "metadata": {},
   "outputs": [
    {
     "name": "stdout",
     "output_type": "stream",
     "text": [
      "CT\n"
     ]
    }
   ],
   "source": [
    "course=\"CTBA\"\n",
    "len(course)##lengh of string\n",
    "print(course[0:2])\n",
    "\n"
   ]
  },
  {
   "cell_type": "code",
   "execution_count": null,
   "id": "a28c6668",
   "metadata": {},
   "outputs": [
    {
     "name": "stdout",
     "output_type": "stream",
     "text": [
      "ANALYTICS\n"
     ]
    }
   ],
   "source": [
    "answer_up=answer.upper()\n",
    "print(answer_up)\n"
   ]
  },
  {
   "cell_type": "code",
   "execution_count": 6,
   "id": "e62bd6aa",
   "metadata": {},
   "outputs": [
    {
     "data": {
      "text/plain": [
       "'analytics'"
      ]
     },
     "execution_count": 6,
     "metadata": {},
     "output_type": "execute_result"
    }
   ],
   "source": [
    "answer.lower()"
   ]
  },
  {
   "cell_type": "code",
   "execution_count": null,
   "id": "c0f7ed29",
   "metadata": {},
   "outputs": [
    {
     "data": {
      "text/plain": [
       "5"
      ]
     },
     "execution_count": 7,
     "metadata": {},
     "output_type": "execute_result"
    }
   ],
   "source": [
    "answer.find(\"t\")\n"
   ]
  },
  {
   "cell_type": "code",
   "execution_count": 10,
   "id": "279841e7",
   "metadata": {},
   "outputs": [
    {
     "name": "stdout",
     "output_type": "stream",
     "text": [
      "hello, I amvioletnice to meet you\n",
      "hello,my name is violet nice to meet you\n"
     ]
    }
   ],
   "source": [
    "name=\"violet\"\n",
    "print(\"hello, I am\" +name +\"nice to meet you\")\n",
    "##rewrite this using f-string\n",
    "print(f\"hello,my name is {name} nice to meet you\")"
   ]
  },
  {
   "cell_type": "markdown",
   "id": "d51ec8a2",
   "metadata": {},
   "source": [
    "    t1[0] = 11 \n",
    "    # This will raise an error because \ttuples are immutable\n"
   ]
  },
  {
   "cell_type": "code",
   "execution_count": null,
   "id": "fe612a58",
   "metadata": {},
   "outputs": [
    {
     "name": "stdout",
     "output_type": "stream",
     "text": [
      "(1, 2, 3, 4, 5)\n"
     ]
    }
   ],
   "source": [
    "\n",
    "t1 = (1, 2, 3, 4, 5) # This is a tuple\n",
    "print(t1) # This will print the tuple t1\n",
    "\t## (1, 2, 3, 4, 5)\n"
   ]
  },
  {
   "cell_type": "markdown",
   "id": "8eb48c8d",
   "metadata": {},
   "source": [
    "dictionary"
   ]
  },
  {
   "cell_type": "code",
   "execution_count": null,
   "id": "df7d1a7e",
   "metadata": {},
   "outputs": [
    {
     "name": "stdout",
     "output_type": "stream",
     "text": [
      "violet\n",
      "25\n",
      "{'name': 'violet', 'age': 24, 'city': 'Williamsburg', 'email': 'yzhao32@wm.edu'}\n"
     ]
    }
   ],
   "source": [
    "d1 = {\"name\": \"violet\", \"age\": 25, \"city\": \"Williamsburg\"} \n",
    "# This is a dictionary where \"name\", \"age\", and \"city\" are the keys\n",
    "print(d1[\"name\"])\n",
    "print(d1[\"age\"])\n",
    "##Updates the value for the key 'age' to 24\n",
    "d1[\"age\"] = 24\n",
    "##Adds a new key-value pair ('email', 'pgschlosser@wm.edu') to the dictionary\n",
    "d1[\"email\"] = \"yzhao32@wm.edu\" \n",
    "\n",
    "##Prints the updated dictionary\n",
    "print(d1) ## {'name': 'Schlosser', 'age': 24, 'city': 'Williamsburg', 'email': 'yzhao32@wm.edu'}\n",
    "\n"
   ]
  },
  {
   "cell_type": "markdown",
   "id": "49063648",
   "metadata": {},
   "source": [
    "##items()"
   ]
  },
  {
   "cell_type": "code",
   "execution_count": null,
   "id": "a8b9851c",
   "metadata": {},
   "outputs": [
    {
     "name": "stdout",
     "output_type": "stream",
     "text": [
      "name : violet\n",
      "age : 24\n",
      "city : Williamsburg\n",
      "email : yzhao32@wm.edu\n"
     ]
    }
   ],
   "source": [
    "for key, value in d1.items():\n",
    "        print(key, \":\", value)\n",
    "##items() returns a view object containing the dictionary’s (key, value) pairs. It is commonly used in loops to iterate through both the keys and values.\n"
   ]
  },
  {
   "cell_type": "markdown",
   "id": "690760d2",
   "metadata": {},
   "source": [
    "A dictionary of dictionaries is a nested data structure where each value in the outer dictionary is itself a dictionary."
   ]
  },
  {
   "cell_type": "code",
   "execution_count": 17,
   "id": "b1e2b474",
   "metadata": {},
   "outputs": [
    {
     "name": "stdout",
     "output_type": "stream",
     "text": [
      "{'person1': {'name': 'Schlosser', 'age': 23, 'city': 'Williamsburg'}, 'person2': {'name': 'Smith', 'age': 30, 'city': 'Newport News'}}\n"
     ]
    }
   ],
   "source": [
    "people = {    \"person1\": {\"name\": \"Schlosser\", \"age\": 23, \"city\": \"Williamsburg\"},\n",
    "              \"person2\": {\"name\": \"Smith\", \"age\": 30, \"city\": \"Newport News\"}}\n",
    "print(people)\n",
    "## {'person1': {'name': 'Schlosser', 'age': 23, 'city': 'Williamsburg'}, 'person2': {'name': 'Smith', 'age': 30, 'city': 'New Port News'}}\n"
   ]
  },
  {
   "cell_type": "markdown",
   "id": "a1963350",
   "metadata": {},
   "source": [
    "在 Python 中，字典对于解决旅行推销员问题 (TSP) 等实际问题非常有用，因为它们提供了以下功能\n",
    "- 快速查找距离 fast lookup for distance\n",
    "- 灵活的数据结构 flexible data structure： 字典允许您动态更新路线、成本和访问状态。\n",
    "- 可读性和结构 readability& structure： 与基于索引的原始数组相比，使用城市名称作为键使模型更易于理解和维护。\n",
    "- 允许您轻松建立复杂关系的模型 easily model complex relatic"
   ]
  },
  {
   "cell_type": "code",
   "execution_count": 19,
   "id": "18ec1d78",
   "metadata": {},
   "outputs": [
    {
     "name": "stdout",
     "output_type": "stream",
     "text": [
      "{'A': {'B': 10, 'C': 15}, 'B': {'A': 10, 'C': 20}, 'C': {'A': 15, 'B': 20}}\n"
     ]
    }
   ],
   "source": [
    "## Dictionary of Dictionaries Example\n",
    "distances = {\"A\": {\"B\": 10, \"C\": 15},\n",
    "\"B\": {\"A\": 10, \"C\": 20},\n",
    "\"C\": {\"A\": 15, \"B\": 20}}\n",
    "print(distances)"
   ]
  },
  {
   "cell_type": "code",
   "execution_count": 2,
   "id": "a57715e4",
   "metadata": {},
   "outputs": [
    {
     "name": "stdout",
     "output_type": "stream",
     "text": [
      "3.4\n",
      "3.8\n",
      "alice: 3.4\n",
      "bob: 3.9\n",
      "chalie: 3.2\n",
      "david: 4.0\n"
     ]
    }
   ],
   "source": [
    "##student GPA\n",
    "gpa = {\n",
    "    \"alice\": 3.4,\n",
    "    \"bob\": 3.8,\n",
    "    \"chalie\": 3.2\n",
    "}\n",
    "print(gpa[\"alice\"])  # 输出 3.4\n",
    "print(gpa.get(\"bob\"))  # 输出 3.8\n",
    "gpa[\"david\"] = 4.0  # 添加新学生\n",
    "gpa[\"bob\"] = 3.9    # 修改 Bob 的 GPA\n",
    "for name, score in gpa.items():\n",
    "    print(f\"{name}: {score}\")\n",
    "\n"
   ]
  },
  {
   "cell_type": "markdown",
   "id": "2c8ad866",
   "metadata": {},
   "source": [
    "if else\n",
    "- Python 和 R 都使用 if 语句来根据条件是 TRUE（R）还是 True（Python）来控制代码流。两者都可以与 else 和 else if (R) / elif (Python) 结合使用，以实现多分支。"
   ]
  },
  {
   "cell_type": "code",
   "execution_count": 1,
   "id": "b4d38d0b",
   "metadata": {},
   "outputs": [
    {
     "name": "stdout",
     "output_type": "stream",
     "text": [
      "x is greater than 5\n"
     ]
    }
   ],
   "source": [
    "x = 10\n",
    "if x > 5:\n",
    "        print(\"x is greater than 5\")\n",
    "## x is greater than 5\n"
   ]
  },
  {
   "cell_type": "code",
   "execution_count": null,
   "id": "172f7ffd",
   "metadata": {},
   "outputs": [
    {
     "name": "stdout",
     "output_type": "stream",
     "text": [
      "x is even\n"
     ]
    }
   ],
   "source": [
    "x = 4\n",
    "if x % 2 == 0:\n",
    "        print(\"x is even\")\n",
    "else:  \n",
    "       print(\"x is odd\")\n",
    "## x is even\n",
    "##% is the modulo operator (remainder).余数\n",
    "##== checks equality."
   ]
  },
  {
   "cell_type": "code",
   "execution_count": 4,
   "id": "3d3d488d",
   "metadata": {},
   "outputs": [
    {
     "name": "stdout",
     "output_type": "stream",
     "text": [
      "false\n"
     ]
    }
   ],
   "source": [
    "x = 4\n",
    "if x % 3 == 0:\n",
    "        print(\"true\")\n",
    "else:  \n",
    "       print(\"false\")"
   ]
  },
  {
   "cell_type": "code",
   "execution_count": 6,
   "id": "12c06511",
   "metadata": {},
   "outputs": [
    {
     "name": "stdout",
     "output_type": "stream",
     "text": [
      "Zero\n"
     ]
    }
   ],
   "source": [
    "x = 0\n",
    "if x > 0:\n",
    "    print(\"Positive\")\n",
    "elif x == 0:  \n",
    "    print(\"Zero\")\n",
    "else:\n",
    "    print(\"Negative\")\n",
    "## Zero\n"
   ]
  },
  {
   "cell_type": "markdown",
   "id": "cd093fe0",
   "metadata": {},
   "source": [
    "for loop\n",
    "- Python（和 R）都使用 for 循环来遍历序列（列表、向量、范围等）中的元素。循环变量依次接受每个元素的值。"
   ]
  },
  {
   "cell_type": "code",
   "execution_count": 7,
   "id": "41f06648",
   "metadata": {},
   "outputs": [
    {
     "name": "stdout",
     "output_type": "stream",
     "text": [
      "i is 0\n",
      "i is 1\n",
      "i is 2\n",
      "i is 3\n",
      "i is 4\n"
     ]
    }
   ],
   "source": [
    "for i in range(5):\n",
    "        print(\"i is\", i)\n"
   ]
  },
  {
   "cell_type": "markdown",
   "id": "fc944564",
   "metadata": {},
   "source": [
    "while 循环\n",
    "- 是一种控制结构，只要指定条件为 True（Python）或 TRUE（R），它就会重复执行代码块。\n",
    "- 具体来说，while 循环在条件为 True 时重复执行。"
   ]
  },
  {
   "cell_type": "code",
   "execution_count": null,
   "id": "7e2e446b",
   "metadata": {},
   "outputs": [
    {
     "name": "stdout",
     "output_type": "stream",
     "text": [
      "0 is even\n",
      "1 is odd\n",
      "2 is even\n",
      "3 is odd\n",
      "4 is even\n"
     ]
    }
   ],
   "source": [
    "x = 0\n",
    "while x < 5:\n",
    "    if x % 2 == 0:\n",
    "        print(x, \"is even\")\n",
    "    else:\n",
    "        print(x, \"is odd\")\n",
    "    x += 1\n",
    "    "
   ]
  },
  {
   "cell_type": "code",
   "execution_count": 22,
   "id": "e26a661a",
   "metadata": {},
   "outputs": [],
   "source": [
    "import numpy as np \n"
   ]
  },
  {
   "cell_type": "code",
   "execution_count": null,
   "id": "8f72f722",
   "metadata": {},
   "outputs": [
    {
     "name": "stdout",
     "output_type": "stream",
     "text": [
      "Collecting numpy\n",
      "  Downloading numpy-2.3.2-cp313-cp313-win_amd64.whl.metadata (60 kB)\n",
      "Downloading numpy-2.3.2-cp313-cp313-win_amd64.whl (12.8 MB)\n",
      "   ---------------------------------------- 0.0/12.8 MB ? eta -:--:--\n",
      "   ------ --------------------------------- 2.1/12.8 MB 10.9 MB/s eta 0:00:01\n",
      "   ------------ --------------------------- 3.9/12.8 MB 10.6 MB/s eta 0:00:01\n",
      "   ------------------ --------------------- 6.0/12.8 MB 10.2 MB/s eta 0:00:01\n",
      "   ------------------------ --------------- 7.9/12.8 MB 9.8 MB/s eta 0:00:01\n",
      "   ----------------------------- ---------- 9.4/12.8 MB 9.2 MB/s eta 0:00:01\n",
      "   --------------------------------- ------ 10.7/12.8 MB 8.7 MB/s eta 0:00:01\n",
      "   ------------------------------------- -- 12.1/12.8 MB 8.5 MB/s eta 0:00:01\n",
      "   ---------------------------------------- 12.8/12.8 MB 8.1 MB/s eta 0:00:00\n",
      "Installing collected packages: numpy\n",
      "Successfully installed numpy-2.3.2\n",
      "Note: you may need to restart the kernel to use updated packages.\n"
     ]
    }
   ],
   "source": [
    "pip install numpy\n",
    "\n"
   ]
  }
 ],
 "metadata": {
  "kernelspec": {
   "display_name": "CTBA",
   "language": "python",
   "name": "python3"
  },
  "language_info": {
   "codemirror_mode": {
    "name": "ipython",
    "version": 3
   },
   "file_extension": ".py",
   "mimetype": "text/x-python",
   "name": "python",
   "nbconvert_exporter": "python",
   "pygments_lexer": "ipython3",
   "version": "3.13.5"
  }
 },
 "nbformat": 4,
 "nbformat_minor": 5
}
